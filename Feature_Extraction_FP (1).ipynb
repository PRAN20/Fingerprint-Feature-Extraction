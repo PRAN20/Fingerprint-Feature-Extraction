{
  "nbformat": 4,
  "nbformat_minor": 0,
  "metadata": {
    "colab": {
      "name": "Feature-Extraction-FP.ipynb",
      "provenance": []
    },
    "kernelspec": {
      "name": "python3",
      "display_name": "Python 3"
    },
    "language_info": {
      "name": "python"
    }
  },
  "cells": [
    {
      "cell_type": "code",
      "source": [
        "from google.colab import drive\n",
        "drive.mount('/content/drive')"
      ],
      "metadata": {
        "colab": {
          "base_uri": "https://localhost:8080/"
        },
        "id": "fAAGaIXZQTGv",
        "outputId": "740dcf3c-156a-4204-fec6-5f5754d9d4c4"
      },
      "execution_count": 1,
      "outputs": [
        {
          "output_type": "stream",
          "name": "stdout",
          "text": [
            "Mounted at /content/drive\n"
          ]
        }
      ]
    },
    {
      "cell_type": "code",
      "source": [
        "!unzip \"/content/drive/MyDrive/archive (1).zip\" -d \"Dataset\""
      ],
      "metadata": {
        "id": "1A4KVwz-Caih"
      },
      "execution_count": null,
      "outputs": []
    },
    {
      "cell_type": "code",
      "source": [
        "!unzip \"/content/drive/MyDrive/results.zip\" -d \"Model\""
      ],
      "metadata": {
        "id": "HljHi-lXCmu9"
      },
      "execution_count": null,
      "outputs": []
    },
    {
      "cell_type": "code",
      "source": [
        "import keras\n",
        "model= keras.models.load_model(\"/content/Model/model/fp160_feature.h5\")"
      ],
      "metadata": {
        "id": "pmtoVaNvfM9F",
        "colab": {
          "base_uri": "https://localhost:8080/"
        },
        "outputId": "904d11c5-e7f0-431a-f39a-89e88f224b5e"
      },
      "execution_count": 20,
      "outputs": [
        {
          "output_type": "stream",
          "name": "stdout",
          "text": [
            "WARNING:tensorflow:No training configuration found in the save file, so the model was *not* compiled. Compile it manually.\n"
          ]
        }
      ]
    },
    {
      "cell_type": "code",
      "source": [
        "model.summary()"
      ],
      "metadata": {
        "colab": {
          "base_uri": "https://localhost:8080/"
        },
        "id": "WIKd6c_Vfejw",
        "outputId": "8d6e915f-2d1c-4813-991a-4d071f879c0d"
      },
      "execution_count": 21,
      "outputs": [
        {
          "output_type": "stream",
          "name": "stdout",
          "text": [
            "Model: \"model\"\n",
            "_________________________________________________________________\n",
            " Layer (type)                Output Shape              Param #   \n",
            "=================================================================\n",
            " input_3 (InputLayer)        [(None, 160, 160, 1)]     0         \n",
            "                                                                 \n",
            " conv2d (Conv2D)             (None, 158, 158, 32)      320       \n",
            "                                                                 \n",
            " max_pooling2d (MaxPooling2D  (None, 79, 79, 32)       0         \n",
            " )                                                               \n",
            "                                                                 \n",
            " conv2d_1 (Conv2D)           (None, 77, 77, 64)        18496     \n",
            "                                                                 \n",
            " max_pooling2d_1 (MaxPooling  (None, 38, 38, 64)       0         \n",
            " 2D)                                                             \n",
            "                                                                 \n",
            " conv2d_2 (Conv2D)           (None, 36, 36, 128)       73856     \n",
            "                                                                 \n",
            " max_pooling2d_2 (MaxPooling  (None, 18, 18, 128)      0         \n",
            " 2D)                                                             \n",
            "                                                                 \n",
            "=================================================================\n",
            "Total params: 92,672\n",
            "Trainable params: 92,672\n",
            "Non-trainable params: 0\n",
            "_________________________________________________________________\n"
          ]
        }
      ]
    },
    {
      "cell_type": "code",
      "source": [
        "import tensorflow as tf\n",
        "new_model = tf.keras.models.Sequential(model.layers[:-1])"
      ],
      "metadata": {
        "id": "UNIk-fQW-oVe"
      },
      "execution_count": 22,
      "outputs": []
    },
    {
      "cell_type": "code",
      "source": [
        "new_model.summary()"
      ],
      "metadata": {
        "colab": {
          "base_uri": "https://localhost:8080/"
        },
        "id": "Pp8Y7yZr-ztL",
        "outputId": "ae97f355-0bca-4bfd-9471-259973169721"
      },
      "execution_count": 23,
      "outputs": [
        {
          "output_type": "stream",
          "name": "stdout",
          "text": [
            "Model: \"sequential_1\"\n",
            "_________________________________________________________________\n",
            " Layer (type)                Output Shape              Param #   \n",
            "=================================================================\n",
            " conv2d (Conv2D)             (None, 158, 158, 32)      320       \n",
            "                                                                 \n",
            " max_pooling2d (MaxPooling2D  (None, 79, 79, 32)       0         \n",
            " )                                                               \n",
            "                                                                 \n",
            " conv2d_1 (Conv2D)           (None, 77, 77, 64)        18496     \n",
            "                                                                 \n",
            " max_pooling2d_1 (MaxPooling  (None, 38, 38, 64)       0         \n",
            " 2D)                                                             \n",
            "                                                                 \n",
            " conv2d_2 (Conv2D)           (None, 36, 36, 128)       73856     \n",
            "                                                                 \n",
            "=================================================================\n",
            "Total params: 92,672\n",
            "Trainable params: 92,672\n",
            "Non-trainable params: 0\n",
            "_________________________________________________________________\n"
          ]
        }
      ]
    },
    {
      "cell_type": "code",
      "source": [
        "!pip install split-folders"
      ],
      "metadata": {
        "colab": {
          "base_uri": "https://localhost:8080/"
        },
        "id": "ZZ66t-c9-_tP",
        "outputId": "6ec54723-38b0-4163-f24a-ded39b464cba"
      },
      "execution_count": 11,
      "outputs": [
        {
          "output_type": "stream",
          "name": "stdout",
          "text": [
            "Collecting split-folders\n",
            "  Downloading split_folders-0.5.1-py3-none-any.whl (8.4 kB)\n",
            "Installing collected packages: split-folders\n",
            "Successfully installed split-folders-0.5.1\n"
          ]
        }
      ]
    },
    {
      "cell_type": "code",
      "source": [
        "import numpy as np"
      ],
      "metadata": {
        "id": "GcN4NnqmDyRR"
      },
      "execution_count": 14,
      "outputs": []
    },
    {
      "cell_type": "code",
      "source": [
        "import numpy as np\n",
        "import matplotlib.pyplot as plt\n",
        "\n",
        "import tensorflow as tf\n",
        "from tensorflow import keras\n",
        "from tensorflow.keras import layers\n",
        "from tensorflow.keras import optimizers\n",
        "from tensorflow.keras.models import Model\n",
        "\n",
        "from sklearn.utils import shuffle\n",
        "from sklearn.model_selection import train_test_split\n",
        "import random\n",
        "\n",
        "import os\n",
        "import datetime"
      ],
      "metadata": {
        "id": "w3k0k6MlEedH"
      },
      "execution_count": 28,
      "outputs": []
    },
    {
      "cell_type": "code",
      "source": [
        "img_data = np.load('/content/Dataset/dataset_FVC2000_DB4_B/dataset/np_data/img_train.npy')\n",
        "label_data = np.load('/content/Dataset/dataset_FVC2000_DB4_B/dataset/np_data/label_train.npy')\n",
        "img_real = np.load('/content/Dataset/dataset_FVC2000_DB4_B/dataset/np_data/img_real.npy')\n",
        "label_real = np.load('/content/Dataset/dataset_FVC2000_DB4_B/dataset/np_data/label_real.npy')"
      ],
      "metadata": {
        "id": "JVFStWPoldgh"
      },
      "execution_count": 15,
      "outputs": []
    },
    {
      "cell_type": "code",
      "source": [
        "img_train, img_val, label_train, label_val = train_test_split(img_data, label_data, test_size = 0.1)\n",
        "print(img_data.shape, label_data.shape)\n",
        "print(img_train.shape, label_train.shape)\n",
        "print(img_val.shape, label_val.shape)"
      ],
      "metadata": {
        "colab": {
          "base_uri": "https://localhost:8080/"
        },
        "id": "Xkagoe0aG0CH",
        "outputId": "8e3b1e61-4857-440c-8a2f-d9ff457102b0"
      },
      "execution_count": 32,
      "outputs": [
        {
          "output_type": "stream",
          "name": "stdout",
          "text": [
            "(800, 160, 160, 1) (800, 1)\n",
            "(720, 160, 160, 1) (720, 1)\n",
            "(80, 160, 160, 1) (80, 1)\n"
          ]
        }
      ]
    },
    {
      "cell_type": "code",
      "source": [
        "img_data = np.load('/content/Dataset/dataset_FVC2000_DB4_B/dataset/np_data/img_train.npy')\n",
        "label_data = np.load('/content/Dataset/dataset_FVC2000_DB4_B/dataset/np_data/label_train.npy')\n",
        "img_real = np.load('/content/Dataset/dataset_FVC2000_DB4_B/dataset/np_data/img_real.npy')\n",
        "label_real = np.load('/content/Dataset/dataset_FVC2000_DB4_B/dataset/np_data/label_real.npy')"
      ],
      "metadata": {
        "id": "JtSffozjJbj1"
      },
      "execution_count": null,
      "outputs": []
    },
    {
      "cell_type": "code",
      "source": [
        "import os\n",
        "import cv2\n",
        "import numpy as np\n",
        "train_imgs=[]\n",
        "train_labels=[]\n",
        "n=1\n",
        "img1_embedding = new_model.predict(img_data/255)[0].flatten()\n",
        "train_imgs.append(img1_embedding)\n",
        "train_labels.append(label_data)"
      ],
      "metadata": {
        "id": "KeCB1i-9Zfcw"
      },
      "execution_count": 50,
      "outputs": []
    },
    {
      "cell_type": "code",
      "source": [
        "import os\n",
        "import cv2\n",
        "import numpy as np\n",
        "test_imgs=[]\n",
        "test_labels=[]\n",
        "n=1\n",
        "img1_embedding = new_model.predict(img_real/255)[0].flatten()\n",
        "test_imgs.append(img1_embedding)\n",
        "test_labels.append(label_real)"
      ],
      "metadata": {
        "id": "I8A-vFFkaOtc"
      },
      "execution_count": 51,
      "outputs": []
    },
    {
      "cell_type": "code",
      "source": [
        "train_imgs= np.array(train_imgs)\n",
        "train_labels= np.array(train_labels)"
      ],
      "metadata": {
        "id": "1TsAN_tQaYDM"
      },
      "execution_count": 52,
      "outputs": []
    },
    {
      "cell_type": "code",
      "source": [
        "train_imgs.shape, train_labels.shape"
      ],
      "metadata": {
        "colab": {
          "base_uri": "https://localhost:8080/"
        },
        "id": "7_Yq2pBiafW0",
        "outputId": "063c8fff-8ced-44af-e706-4f5952af274c"
      },
      "execution_count": 53,
      "outputs": [
        {
          "output_type": "execute_result",
          "data": {
            "text/plain": [
              "((1, 165888), (1, 800, 1))"
            ]
          },
          "metadata": {},
          "execution_count": 53
        }
      ]
    },
    {
      "cell_type": "code",
      "source": [
        "import numpy\n",
        "a = numpy.asarray(train_imgs)\n",
        "numpy.savetxt(\"X_train.csv\", a, delimiter=\",\")"
      ],
      "metadata": {
        "id": "TvBZiVdsakUj"
      },
      "execution_count": 54,
      "outputs": []
    },
    {
      "cell_type": "code",
      "source": [
        "reshaped_array= train_labels.reshape(train_labels.shape[0], (train_labels.shape[1]*train_labels.shape[2]))"
      ],
      "metadata": {
        "id": "d2Bxx_y7KaTk"
      },
      "execution_count": 55,
      "outputs": []
    },
    {
      "cell_type": "code",
      "source": [
        "a = numpy.asarray(train_labels)\n",
        "np.savetxt(\"y_train.csv\", a.reshape((2,-1)), fmt=\"%s\")"
      ],
      "metadata": {
        "id": "FWLk7nNUauli"
      },
      "execution_count": 56,
      "outputs": []
    },
    {
      "cell_type": "code",
      "source": [
        "test_imgs= np.array(test_imgs)\n",
        "test_labels= np.array(test_labels)\n",
        "test_imgs.shape, test_labels.shape"
      ],
      "metadata": {
        "colab": {
          "base_uri": "https://localhost:8080/"
        },
        "id": "tHLY--zRaz5m",
        "outputId": "58957d1a-e2e1-46cb-b3b7-d4f2f78b0cfb"
      },
      "execution_count": 57,
      "outputs": [
        {
          "output_type": "execute_result",
          "data": {
            "text/plain": [
              "((1, 165888), (1, 10, 1))"
            ]
          },
          "metadata": {},
          "execution_count": 57
        }
      ]
    },
    {
      "cell_type": "code",
      "source": [
        "a = numpy.asarray(test_imgs)\n",
        "numpy.savetxt(\"X_test.csv\", a, delimiter=\",\")\n",
        "a = numpy.asarray(test_labels)\n",
        "np.savetxt(\"y_test.csv\", a.reshape((2,-1)), fmt=\"%s\")"
      ],
      "metadata": {
        "id": "UoDNV-I_a3mK"
      },
      "execution_count": 59,
      "outputs": []
    },
    {
      "cell_type": "code",
      "source": [
        "from zipfile import ZipFile\n",
        "import os\n",
        "  \n",
        "def get_all_file_paths(directory):\n",
        "    file_paths = []\n",
        "  \n",
        "    for root, directories, files in os.walk(directory):\n",
        "        for filename in files:\n",
        "            filepath = os.path.join(root, filename)\n",
        "            file_paths.append(filepath)\n",
        "  \n",
        "    return file_paths        \n",
        "  \n",
        "def main():\n",
        "    directory = '/content/CSV FILES'\n",
        "    file_paths = get_all_file_paths(directory)\n",
        "    print('Following files will be zipped:')\n",
        "    for file_name in file_paths:\n",
        "        print(file_name)\n",
        "  \n",
        "    with ZipFile('my_python_files.zip','w') as zip:\n",
        "        for file in file_paths:\n",
        "            zip.write(file)\n",
        "  \n",
        "    print('All files zipped successfully!')        \n",
        "  \n",
        "if __name__ == \"__main__\":\n",
        "    main()"
      ],
      "metadata": {
        "id": "lBo3vVQUa8Fk",
        "outputId": "e94e5d54-dc36-4ce0-9b8f-311375837351",
        "colab": {
          "base_uri": "https://localhost:8080/"
        }
      },
      "execution_count": 60,
      "outputs": [
        {
          "output_type": "stream",
          "name": "stdout",
          "text": [
            "Following files will be zipped:\n",
            "/content/CSV FILES/y_train.csv\n",
            "/content/CSV FILES/X_train.csv\n",
            "/content/CSV FILES/X_test.csv\n",
            "/content/CSV FILES/y_test.csv\n",
            "All files zipped successfully!\n"
          ]
        }
      ]
    }
  ]
}